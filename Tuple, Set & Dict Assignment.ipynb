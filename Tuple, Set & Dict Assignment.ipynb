{
 "cells": [
  {
   "cell_type": "raw",
   "id": "b5eb1351-2dae-4400-b932-7547f27db993",
   "metadata": {},
   "source": [
    "## Q1. What are the characteristics of the tuples? Is tuple immutable?"
   ]
  },
  {
   "cell_type": "code",
   "execution_count": 2,
   "id": "3037b74c-6239-4d76-a77b-4c702dacddd7",
   "metadata": {},
   "outputs": [],
   "source": [
    "## ans. Tuples are indexed, immutable and it can store duplicate values.\n",
    "## Tuple is immutable."
   ]
  },
  {
   "cell_type": "raw",
   "id": "fff6e87c-8071-4476-a773-f27ee7683bc4",
   "metadata": {},
   "source": [
    "## Q2. What are the two tuple methods in python? Give an example of each method. Give a reason why tuples have only two in-built methods as compared to Lists."
   ]
  },
  {
   "cell_type": "code",
   "execution_count": 8,
   "id": "c546ba62-3086-46c6-8d3a-313f57468620",
   "metadata": {},
   "outputs": [
    {
     "data": {
      "text/plain": [
       "'kamal'"
      ]
     },
     "execution_count": 8,
     "metadata": {},
     "output_type": "execute_result"
    }
   ],
   "source": [
    "## ans) The two tuple methods are index() and count()\n",
    "## example of index()\n",
    "t=(7,56, \"pw\", \"kamal\", 58, 56)\n",
    "t[3] ##  Finding the index 3 in the tuple t()"
   ]
  },
  {
   "cell_type": "code",
   "execution_count": 9,
   "id": "31a25f82-0e01-42ca-9bd8-44917b2e6634",
   "metadata": {},
   "outputs": [
    {
     "data": {
      "text/plain": [
       "2"
      ]
     },
     "execution_count": 9,
     "metadata": {},
     "output_type": "execute_result"
    }
   ],
   "source": [
    "## ans) example of count()\n",
    "t.count(56)    ## counting occurance of 56 in the tuple t()"
   ]
  },
  {
   "cell_type": "code",
   "execution_count": 10,
   "id": "52c98abb-ae02-4b48-b581-5be8affc25a1",
   "metadata": {},
   "outputs": [],
   "source": [
    "## ans) Tuples have only two in built methods because Tuples are immutable unlike Lists, which allows changing of values inside it. Hence there are less methods in Tuples"
   ]
  },
  {
   "cell_type": "raw",
   "id": "229bde73-dad3-4886-8d7f-f18226cb13de",
   "metadata": {},
   "source": [
    "Q3. Which collection datatypes in python do not allow duplicate items? Write a code using a set to remove\n",
    "duplicates from the given list.\n",
    "List = [1, 1, 1, 2, 1, 3, 1, 4, 2, 1, 2, 2, 2, 3, 2, 4, 3, 1, 3, 2, 3, 3, 3, 4, 4, 1, 4, 2, 4, 3, 4, 4]"
   ]
  },
  {
   "cell_type": "code",
   "execution_count": 11,
   "id": "2e08af24-805c-4f28-bdd2-94216e53f86e",
   "metadata": {},
   "outputs": [
    {
     "data": {
      "text/plain": [
       "{1, 2, 3, 4}"
      ]
     },
     "execution_count": 11,
     "metadata": {},
     "output_type": "execute_result"
    }
   ],
   "source": [
    "## ans)  Set doesnot allow duplicate items\n",
    "## ans) Writing a code using a set to remove duplicates from the given list.\n",
    "List = [1, 1, 1, 2, 1, 3, 1, 4, 2, 1, 2, 2, 2, 3, 2, 4, 3, 1, 3, 2, 3, 3, 3, 4, 4, 1, 4, 2, 4, 3, 4, 4]\n",
    "set(List)"
   ]
  },
  {
   "cell_type": "raw",
   "id": "d15cbc5d-5387-47f6-8bb9-f25942644e5d",
   "metadata": {},
   "source": [
    "Q4. Explain the difference between the union() and update() methods for a set. Give an example of\n",
    "each method."
   ]
  },
  {
   "cell_type": "code",
   "execution_count": 19,
   "id": "c4e3913c-f166-47f8-be54-54a6fd7f9f64",
   "metadata": {},
   "outputs": [
    {
     "data": {
      "text/plain": [
       "{2, 4, 5, 6, 7, 9, 'data science', 'kamal'}"
      ]
     },
     "execution_count": 19,
     "metadata": {},
     "output_type": "execute_result"
    }
   ],
   "source": [
    "## union() method unites two sets and makes a new sets with elements from both the sets. Here a new set is created.\n",
    "## update() method updates the elements of one set into another set on which it is called. It does not create a new set.\n",
    "\n",
    "s1={2,4,5,6, \"kamal\"}\n",
    "s2={2,7,5, \"data science\" ,9}\n",
    "s1.union(s2)  ## example of union() where a new set with elements from sets s1 and s2 will be created"
   ]
  },
  {
   "cell_type": "code",
   "execution_count": 20,
   "id": "32fec9e7-0adc-48fe-8eda-e7eaf80bfc50",
   "metadata": {},
   "outputs": [],
   "source": [
    "s3={8,5,7,\"hi\",4,2}\n",
    "s4={8,7,5,10,14}\n",
    "s3.update(s4)  ## example of update() where the elements of set s3 will be updated"
   ]
  },
  {
   "cell_type": "code",
   "execution_count": 21,
   "id": "c437f1c2-0897-4b80-a81c-9b190c3839d7",
   "metadata": {},
   "outputs": [
    {
     "data": {
      "text/plain": [
       "{10, 14, 2, 4, 5, 7, 8, 'hi'}"
      ]
     },
     "execution_count": 21,
     "metadata": {},
     "output_type": "execute_result"
    }
   ],
   "source": [
    "s3"
   ]
  },
  {
   "cell_type": "code",
   "execution_count": 22,
   "id": "394289e8-ab38-423b-b529-6ad857b162bc",
   "metadata": {},
   "outputs": [
    {
     "data": {
      "text/plain": [
       "{2, 4, 5, 6, 'kamal'}"
      ]
     },
     "execution_count": 22,
     "metadata": {},
     "output_type": "execute_result"
    }
   ],
   "source": [
    "s1"
   ]
  },
  {
   "cell_type": "code",
   "execution_count": 23,
   "id": "d0938356-9884-40d6-9434-a551f0de2a4a",
   "metadata": {},
   "outputs": [
    {
     "data": {
      "text/plain": [
       "{2, 5, 7, 9, 'data science'}"
      ]
     },
     "execution_count": 23,
     "metadata": {},
     "output_type": "execute_result"
    }
   ],
   "source": [
    "s2"
   ]
  },
  {
   "cell_type": "raw",
   "id": "7155b0c2-9698-4c5f-9343-da8f9bf5ff3e",
   "metadata": {},
   "source": [
    "Q5. What is a dictionary? Give an example. Also, state whether a dictionary is ordered or unordered.\n"
   ]
  },
  {
   "cell_type": "code",
   "execution_count": 24,
   "id": "596dfde0-90a1-4471-8f3b-06d739d0b6d4",
   "metadata": {},
   "outputs": [],
   "source": [
    "## ans) Dictionary is a data structure that allows us to store values in key:value format.\n",
    "d1={\"name\" : \"kamal\", \"surname\" : \"banik\", \"batch\" : \"data science masters\"}  ## example of dictionary"
   ]
  },
  {
   "cell_type": "code",
   "execution_count": 27,
   "id": "ea8de1a5-e466-4271-89b8-4bcc663af21e",
   "metadata": {},
   "outputs": [
    {
     "data": {
      "text/plain": [
       "{'name': 'kamal', 'surname': 'banik', 'batch': 'data science masters'}"
      ]
     },
     "execution_count": 27,
     "metadata": {},
     "output_type": "execute_result"
    }
   ],
   "source": [
    "d1"
   ]
  },
  {
   "cell_type": "code",
   "execution_count": 30,
   "id": "de0bc312-b32d-4cd5-968e-a4ee8a52e293",
   "metadata": {},
   "outputs": [
    {
     "data": {
      "text/plain": [
       "'data science masters'"
      ]
     },
     "execution_count": 30,
     "metadata": {},
     "output_type": "execute_result"
    }
   ],
   "source": [
    "d1[\"batch\"]"
   ]
  },
  {
   "cell_type": "code",
   "execution_count": 28,
   "id": "05061731-0735-48b3-84ac-da24e706d0e5",
   "metadata": {},
   "outputs": [],
   "source": [
    "## ans) a dictionary is oredered"
   ]
  },
  {
   "cell_type": "raw",
   "id": "858769fb-0c5c-46cc-bf1a-b088d765ade8",
   "metadata": {},
   "source": [
    "Q6. Can we create a nested dictionary? If so, please give an example by creating a simple one-level\n",
    "nested dictionary."
   ]
  },
  {
   "cell_type": "code",
   "execution_count": 31,
   "id": "8f3abab2-9151-455b-93bb-2ea49ab86c4b",
   "metadata": {},
   "outputs": [],
   "source": [
    "## Yes, we can creatre a nested dictionary.\n",
    "d2={\"info\" : {\"age\" : 30, \"height\" : \"5 ft 8 inch\"}, \"place\" : \"kolkata\" } ## nested dictionary"
   ]
  },
  {
   "cell_type": "code",
   "execution_count": 32,
   "id": "bad2a7f5-9720-4425-a036-9c68881d5c6c",
   "metadata": {},
   "outputs": [
    {
     "data": {
      "text/plain": [
       "{'info': {'age': 30, 'height': '5 ft 8 inch'}, 'place': 'kolkata'}"
      ]
     },
     "execution_count": 32,
     "metadata": {},
     "output_type": "execute_result"
    }
   ],
   "source": [
    "d2"
   ]
  },
  {
   "cell_type": "code",
   "execution_count": 33,
   "id": "422e6ff1-2938-4c2c-8f73-333c4bd9bf9f",
   "metadata": {},
   "outputs": [
    {
     "data": {
      "text/plain": [
       "{'age': 30, 'height': '5 ft 8 inch'}"
      ]
     },
     "execution_count": 33,
     "metadata": {},
     "output_type": "execute_result"
    }
   ],
   "source": [
    "d2[\"info\"]"
   ]
  },
  {
   "cell_type": "code",
   "execution_count": 34,
   "id": "9c99685f-2b77-4c1d-b940-a227eaae05b5",
   "metadata": {},
   "outputs": [
    {
     "data": {
      "text/plain": [
       "'5 ft 8 inch'"
      ]
     },
     "execution_count": 34,
     "metadata": {},
     "output_type": "execute_result"
    }
   ],
   "source": [
    "d2[\"info\"][\"height\"]"
   ]
  },
  {
   "cell_type": "raw",
   "id": "4ac623ed-37f9-4545-a963-5d6f9549cc33",
   "metadata": {},
   "source": [
    "Q7. Using setdefault() method, create key named topics in the given dictionary and also add the value of\n",
    "the key as this list ['Python', 'Machine Learning’, 'Deep Learning']\n",
    "\n",
    "dict1 = {'language' : 'Python', 'course': 'Data Science Masters'}"
   ]
  },
  {
   "cell_type": "code",
   "execution_count": 65,
   "id": "05969c39-02a9-439c-a1aa-c7f56978724e",
   "metadata": {},
   "outputs": [],
   "source": [
    "dict1 = {'language' : 'Python', 'course': 'Data Science Masters'}"
   ]
  },
  {
   "cell_type": "code",
   "execution_count": 84,
   "id": "7c474a99-c298-4423-bac3-945ccd4b5e87",
   "metadata": {},
   "outputs": [],
   "source": [
    "dict1.setdefault(\"topics\", [\"Python\", \"Machine Learning\", \"Deep Learning\"])"
   ]
  },
  {
   "cell_type": "raw",
   "id": "c61adce4-8cff-4cce-b1d1-36facc0be4a1",
   "metadata": {},
   "source": [
    "Q8. What are the three view objects in dictionaries? Use the three in-built methods in python to display\n",
    "these three view objects for the given dictionary.\n",
    "dict1 = {'Sport': 'Cricket' , 'Teams': ['India', 'Australia', 'England', 'South Africa', 'Sri Lanka', 'New Zealand']}"
   ]
  },
  {
   "cell_type": "code",
   "execution_count": 93,
   "id": "931773cb-da2d-46f5-a964-f7bcaa5a80dd",
   "metadata": {},
   "outputs": [],
   "source": [
    "## ans) Three view objects in dictionaries are keys(), values(), items()\n",
    "\n",
    "dict1 = {'Sport': 'Cricket' , 'Teams': ['India', 'Australia', 'England', 'South Africa', 'Sri Lanka', 'New Zealand']}\n"
   ]
  },
  {
   "cell_type": "code",
   "execution_count": 94,
   "id": "d9bbfc2f-75c8-4a4f-a494-c87badd6d978",
   "metadata": {},
   "outputs": [
    {
     "data": {
      "text/plain": [
       "dict_keys(['Sport', 'Teams'])"
      ]
     },
     "execution_count": 94,
     "metadata": {},
     "output_type": "execute_result"
    }
   ],
   "source": [
    "dict1.keys()"
   ]
  },
  {
   "cell_type": "code",
   "execution_count": 95,
   "id": "7620b976-3299-42c0-a32a-c92b88edebd7",
   "metadata": {},
   "outputs": [
    {
     "data": {
      "text/plain": [
       "dict_values(['Cricket', ['India', 'Australia', 'England', 'South Africa', 'Sri Lanka', 'New Zealand']])"
      ]
     },
     "execution_count": 95,
     "metadata": {},
     "output_type": "execute_result"
    }
   ],
   "source": [
    "dict1.values()"
   ]
  },
  {
   "cell_type": "code",
   "execution_count": 96,
   "id": "8794d08d-f5e4-4692-859c-28cd77e164ff",
   "metadata": {},
   "outputs": [
    {
     "data": {
      "text/plain": [
       "dict_items([('Sport', 'Cricket'), ('Teams', ['India', 'Australia', 'England', 'South Africa', 'Sri Lanka', 'New Zealand'])])"
      ]
     },
     "execution_count": 96,
     "metadata": {},
     "output_type": "execute_result"
    }
   ],
   "source": [
    "dict1.items()"
   ]
  },
  {
   "cell_type": "code",
   "execution_count": null,
   "id": "a62892ae-e12b-4836-a89f-306c2a58932d",
   "metadata": {},
   "outputs": [],
   "source": []
  }
 ],
 "metadata": {
  "kernelspec": {
   "display_name": "Python 3 (ipykernel)",
   "language": "python",
   "name": "python3"
  },
  "language_info": {
   "codemirror_mode": {
    "name": "ipython",
    "version": 3
   },
   "file_extension": ".py",
   "mimetype": "text/x-python",
   "name": "python",
   "nbconvert_exporter": "python",
   "pygments_lexer": "ipython3",
   "version": "3.10.8"
  }
 },
 "nbformat": 4,
 "nbformat_minor": 5
}
