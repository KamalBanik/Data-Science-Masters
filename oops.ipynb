{
 "cells": [
  {
   "cell_type": "code",
   "execution_count": 1,
   "id": "af8fb4dd-bf85-45e2-846a-68ba1a7944cc",
   "metadata": {},
   "outputs": [],
   "source": [
    "## Q1. Explain Class and Object with respect to Object-Oriented Programming. Give a suitable example."
   ]
  },
  {
   "cell_type": "code",
   "execution_count": 4,
   "id": "9bebef2d-0714-43b4-b6c7-b5fb4c548bf0",
   "metadata": {},
   "outputs": [],
   "source": [
    "## A class is a user defined layout or blueprint of an object that describes what a specific object will look like\n",
    "## An object is instance of that class with the described characteristics.\n",
    "## For example if we consider building drawing where length, width, height, floors etc have been described for a house. So here Building drawing is the class and the house is object."
   ]
  },
  {
   "cell_type": "code",
   "execution_count": 5,
   "id": "cefcef6c-0839-4196-bfa5-c7d56527ca97",
   "metadata": {},
   "outputs": [],
   "source": [
    "## Q2. Name the four pillars of OOPs."
   ]
  },
  {
   "cell_type": "code",
   "execution_count": 6,
   "id": "e17b24ee-6230-4f59-83e8-143fe6835b69",
   "metadata": {},
   "outputs": [],
   "source": [
    "## Inheritance, Polymorphism, Encapsulate, Abstraction"
   ]
  },
  {
   "cell_type": "code",
   "execution_count": 7,
   "id": "0fdcc966-817c-49bb-a020-45f929b851a2",
   "metadata": {},
   "outputs": [],
   "source": [
    "## Q3. Explain why the __init__() function is used. Give a suitable example."
   ]
  },
  {
   "cell_type": "code",
   "execution_count": 13,
   "id": "1ddd8a44-b1d1-46bb-83b8-c2abbe32727a",
   "metadata": {},
   "outputs": [
    {
     "name": "stdout",
     "output_type": "stream",
     "text": [
      "Virat\n",
      "35\n"
     ]
    }
   ],
   "source": [
    "## __init__() function is a constructor. It is declared within a class and is used to initialize the attributes ogf an object.\n",
    "\n",
    "##Example\n",
    "class student :\n",
    "    def __init__(self, name, age):\n",
    "        self.name=name\n",
    "        self.age=age\n",
    "st1= student(\"Virat\", 35)\n",
    "print(st1.name) \n",
    "print(st1.age)"
   ]
  },
  {
   "cell_type": "code",
   "execution_count": 14,
   "id": "a2e97232-204a-46aa-b819-e5ca552a57b9",
   "metadata": {},
   "outputs": [],
   "source": [
    "## Q4. Why self is used in OOPs?"
   ]
  },
  {
   "cell_type": "code",
   "execution_count": 15,
   "id": "83c3d1f0-8f50-4222-87aa-db365380bad7",
   "metadata": {},
   "outputs": [],
   "source": [
    "## self is a reference to the current instances of the class. It is used to access variables that belong to the class"
   ]
  },
  {
   "cell_type": "code",
   "execution_count": null,
   "id": "1c21627c-a4ba-4b78-ab79-b4d62c2b5979",
   "metadata": {},
   "outputs": [],
   "source": [
    "## Q5. What is inheritance? Give an example for each type of inheritance.\n",
    "## Inheritance is the process of creating new class from existing class\n"
   ]
  }
 ],
 "metadata": {
  "kernelspec": {
   "display_name": "Python 3 (ipykernel)",
   "language": "python",
   "name": "python3"
  },
  "language_info": {
   "codemirror_mode": {
    "name": "ipython",
    "version": 3
   },
   "file_extension": ".py",
   "mimetype": "text/x-python",
   "name": "python",
   "nbconvert_exporter": "python",
   "pygments_lexer": "ipython3",
   "version": "3.10.8"
  }
 },
 "nbformat": 4,
 "nbformat_minor": 5
}
