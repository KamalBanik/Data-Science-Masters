{
 "cells": [
  {
   "cell_type": "raw",
   "id": "f3dca370-6720-4662-88d6-bba8a4ced7f0",
   "metadata": {},
   "source": [
    "Q1. Which keyword is used to create a function? Create a function to return a list of odd numbers in the\n",
    "range of 1 to 25."
   ]
  },
  {
   "cell_type": "code",
   "execution_count": 34,
   "id": "6082c0da-b900-4925-b1a4-55786d85079e",
   "metadata": {},
   "outputs": [
    {
     "name": "stdout",
     "output_type": "stream",
     "text": [
      "1 3 5 7 9 11 13 15 17 19 21 23 25 "
     ]
    }
   ],
   "source": [
    "## ans) The keyword used to create a function is def.\n",
    "\n",
    "##function to return a list of odd numbers in the range 1 to 25\n",
    "def ret_odd():\n",
    "    a,b=1,25\n",
    "    for i in range(a, b+1):\n",
    "        if i%2!=0 :\n",
    "             print(i, end =\" \")\n",
    "ret_odd()"
   ]
  },
  {
   "cell_type": "raw",
   "id": "1e613461-75ff-43a7-bf78-f604eb62c62b",
   "metadata": {},
   "source": [
    "Q2. Why *args and **kwargs is used in some functions? Create a function each for *args and **kwargs to\n",
    "demonstrate their use."
   ]
  },
  {
   "cell_type": "code",
   "execution_count": 37,
   "id": "6e18e6cd-5a0d-4350-b3f3-2209dd9e0206",
   "metadata": {},
   "outputs": [],
   "source": [
    "##  *args allows us to pass variable number of non keyword arguments\n",
    "##  **kwargs allows us to pass variable number keyword arguments in key-value form\n",
    "\n",
    "def chck(*args):        ## function to demonstrate use of *args\n",
    "    l = []\n",
    "    for i in args:\n",
    "        if type(i) == str :\n",
    "            l.append(i)\n",
    "    return l                    ## function to return only string using *args\n",
    "    "
   ]
  },
  {
   "cell_type": "code",
   "execution_count": 36,
   "id": "c1a3127e-054a-4629-9d8d-3993b1c56979",
   "metadata": {},
   "outputs": [
    {
     "data": {
      "text/plain": [
       "['hey', 'check']"
      ]
     },
     "execution_count": 36,
     "metadata": {},
     "output_type": "execute_result"
    }
   ],
   "source": [
    "chck(1,58,\"hey\", 455, \"check\")"
   ]
  },
  {
   "cell_type": "code",
   "execution_count": 67,
   "id": "c2c0622d-bb0c-4852-aab8-838173241139",
   "metadata": {},
   "outputs": [],
   "source": [
    "def chck2(**kwargs):              ## function to demonstrate use of *kwargs\n",
    "    for i in kwargs.keys():\n",
    "        if type(kwargs[i]) == list:\n",
    "            return i , kwargs[i]"
   ]
  },
  {
   "cell_type": "code",
   "execution_count": 68,
   "id": "96216a6d-2270-4d8c-8f9f-77026f09d862",
   "metadata": {},
   "outputs": [
    {
     "data": {
      "text/plain": [
       "('c', [54, 68, 75])"
      ]
     },
     "execution_count": 68,
     "metadata": {},
     "output_type": "execute_result"
    }
   ],
   "source": [
    "chck2(a=75, b= 152, c=[54,68,75], d=(84,57,75))"
   ]
  },
  {
   "cell_type": "code",
   "execution_count": 82,
   "id": "59968ac9-2e21-4483-962f-7ddbd0888f9a",
   "metadata": {},
   "outputs": [],
   "source": [
    "def chck3(**kwargs):\n",
    "    for i in kwargs.keys():\n",
    "        if type(kwargs[i]) == tuple:\n",
    "            return i , kwargs[i]"
   ]
  },
  {
   "cell_type": "code",
   "execution_count": 84,
   "id": "65b37cba-55f5-402e-a77b-ac376d6aa4c4",
   "metadata": {},
   "outputs": [
    {
     "data": {
      "text/plain": [
       "('d', (14, 57, 'abc', 75))"
      ]
     },
     "execution_count": 84,
     "metadata": {},
     "output_type": "execute_result"
    }
   ],
   "source": [
    "chck3(a=885, b= 154, c=[54,75], d=(14,57,\"abc\",75))"
   ]
  },
  {
   "cell_type": "raw",
   "id": "d1e7841a-5184-4617-85e1-71f21d774613",
   "metadata": {},
   "source": [
    "Q3. What is an iterator in python? Name the method used to initialise the iterator object and the method\n",
    "used for iteration. Use these methods to print the first five elements of the given list [2, 4, 6, 8, 10, 12, 14, 16,\n",
    "18, 20]."
   ]
  },
  {
   "cell_type": "code",
   "execution_count": 99,
   "id": "766e439a-5e4e-4e28-a27e-70e5a2596527",
   "metadata": {},
   "outputs": [],
   "source": [
    "## ans) Iterator is repeating of a process.\n",
    "## ans) To initialize the iterator object the method is iter() and method used for iteration is next()\n",
    "\n",
    "\n",
    "\n",
    "\n"
   ]
  },
  {
   "cell_type": "raw",
   "id": "639526a2-a390-4867-878a-a18e40b9f097",
   "metadata": {},
   "source": [
    "Q4. What is a generator function in python? Why yield keyword is used? Give an example of a generator\n",
    "function."
   ]
  },
  {
   "cell_type": "code",
   "execution_count": 105,
   "id": "8cb1caea-60e3-42ce-b494-f5694b480a1f",
   "metadata": {},
   "outputs": [
    {
     "name": "stdout",
     "output_type": "stream",
     "text": [
      "1\n",
      "4\n",
      "9\n",
      "16\n",
      "25\n"
     ]
    }
   ],
   "source": [
    "## A generator function returns iterator objects with a sequence of values. \n",
    "## Yiels is used when we want to iterate over a sequence but do not want to store the values\n",
    "\n",
    "def square(n):\n",
    "    a = 1\n",
    "    for i in range(n):\n",
    "        yield a**2\n",
    "        a = a+1\n",
    "        \n",
    "for i in square(5):\n",
    "    print(i)"
   ]
  },
  {
   "cell_type": "raw",
   "id": "ccec8c46-111f-4446-8854-84603f9e9b3f",
   "metadata": {},
   "source": [
    "Q5. Create a generator function for prime numbers less than 1000. Use the next() method to print the\n",
    "first 20 prime numbers."
   ]
  },
  {
   "cell_type": "code",
   "execution_count": null,
   "id": "f26898f3-a6ea-4286-893a-f3f0e99693fd",
   "metadata": {},
   "outputs": [],
   "source": [
    "\n",
    "\n",
    "\n",
    "\n",
    "    "
   ]
  }
 ],
 "metadata": {
  "kernelspec": {
   "display_name": "Python 3 (ipykernel)",
   "language": "python",
   "name": "python3"
  },
  "language_info": {
   "codemirror_mode": {
    "name": "ipython",
    "version": 3
   },
   "file_extension": ".py",
   "mimetype": "text/x-python",
   "name": "python",
   "nbconvert_exporter": "python",
   "pygments_lexer": "ipython3",
   "version": "3.10.8"
  }
 },
 "nbformat": 4,
 "nbformat_minor": 5
}
